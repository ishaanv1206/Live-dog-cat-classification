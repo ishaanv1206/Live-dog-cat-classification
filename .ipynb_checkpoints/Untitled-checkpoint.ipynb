{
 "cells": [
  {
   "cell_type": "code",
   "execution_count": 1,
   "id": "d11ab5d7-d732-4ee1-9132-11b8a5727735",
   "metadata": {},
   "outputs": [
    {
     "name": "stdout",
     "output_type": "stream",
     "text": [
      "WARNING:tensorflow:From C:\\Users\\ishaa_04bpft8\\AppData\\Local\\Programs\\Python\\Python311\\Lib\\site-packages\\keras\\src\\losses.py:2976: The name tf.losses.sparse_softmax_cross_entropy is deprecated. Please use tf.compat.v1.losses.sparse_softmax_cross_entropy instead.\n",
      "\n"
     ]
    }
   ],
   "source": [
    "import tensorflow as tf\n",
    "from keras.preprocessing.image import ImageDataGenerator"
   ]
  },
  {
   "cell_type": "code",
   "execution_count": 2,
   "id": "afe94946-5c90-4182-a1bc-3aa7ab71cf8e",
   "metadata": {},
   "outputs": [
    {
     "name": "stdout",
     "output_type": "stream",
     "text": [
      "Found 7999 images belonging to 2 classes.\n"
     ]
    }
   ],
   "source": [
    "train_datagen = ImageDataGenerator(rescale = 1./255,\n",
    "                                   shear_range = 0.2,\n",
    "                                   zoom_range = 0.2,\n",
    "                                   horizontal_flip = True)\n",
    "training_set = train_datagen.flow_from_directory('dataset/training_set',\n",
    "                                                 target_size = (64, 64),\n",
    "                                                 batch_size = 100,\n",
    "                                                 class_mode = 'binary')"
   ]
  },
  {
   "cell_type": "code",
   "execution_count": 3,
   "id": "9f617f87-6278-4aa1-9a12-f2bcfa2ae294",
   "metadata": {},
   "outputs": [
    {
     "name": "stdout",
     "output_type": "stream",
     "text": [
      "Found 2000 images belonging to 2 classes.\n"
     ]
    }
   ],
   "source": [
    "test_datagen = ImageDataGenerator(rescale = 1./255)\n",
    "test_set = test_datagen.flow_from_directory('dataset/test_set',\n",
    "                                            target_size = (64, 64),\n",
    "                                            batch_size = 100,\n",
    "                                            class_mode = 'binary')"
   ]
  },
  {
   "cell_type": "code",
   "execution_count": 4,
   "id": "e3963116-326f-47f7-a56e-f6ebd29aaa01",
   "metadata": {},
   "outputs": [
    {
     "name": "stdout",
     "output_type": "stream",
     "text": [
      "WARNING:tensorflow:From C:\\Users\\ishaa_04bpft8\\AppData\\Local\\Programs\\Python\\Python311\\Lib\\site-packages\\keras\\src\\backend.py:873: The name tf.get_default_graph is deprecated. Please use tf.compat.v1.get_default_graph instead.\n",
      "\n"
     ]
    }
   ],
   "source": [
    "cnn = tf.keras.models.Sequential()"
   ]
  },
  {
   "cell_type": "code",
   "execution_count": 5,
   "id": "9125bed2-d156-4ffc-8c80-e6910c1b1dad",
   "metadata": {},
   "outputs": [],
   "source": [
    "cnn.add(tf.keras.layers.Conv2D(filters=32, kernel_size=3, activation='relu', input_shape=[64, 64, 3]))"
   ]
  },
  {
   "cell_type": "code",
   "execution_count": 6,
   "id": "3cfe63f6-ffc4-4c57-9871-c8443357b6fd",
   "metadata": {},
   "outputs": [
    {
     "name": "stdout",
     "output_type": "stream",
     "text": [
      "WARNING:tensorflow:From C:\\Users\\ishaa_04bpft8\\AppData\\Local\\Programs\\Python\\Python311\\Lib\\site-packages\\keras\\src\\layers\\pooling\\max_pooling2d.py:161: The name tf.nn.max_pool is deprecated. Please use tf.nn.max_pool2d instead.\n",
      "\n"
     ]
    }
   ],
   "source": [
    "cnn.add(tf.keras.layers.MaxPool2D(pool_size=2, strides=2))"
   ]
  },
  {
   "cell_type": "code",
   "execution_count": 7,
   "id": "cb9eb07d-f582-45a6-be0c-6022d43e7ec2",
   "metadata": {},
   "outputs": [],
   "source": [
    "cnn.add(tf.keras.layers.Conv2D(filters=32, kernel_size=3, activation='relu'))\n",
    "cnn.add(tf.keras.layers.MaxPool2D(pool_size=2, strides=2))"
   ]
  },
  {
   "cell_type": "code",
   "execution_count": 8,
   "id": "66dbbb9e-5c48-4f4e-b124-9f3888d0a278",
   "metadata": {},
   "outputs": [],
   "source": [
    "cnn.add(tf.keras.layers.Flatten())"
   ]
  },
  {
   "cell_type": "code",
   "execution_count": 9,
   "id": "a737e4a4-c3dd-4c7a-b243-c3615fcdeaf6",
   "metadata": {},
   "outputs": [],
   "source": [
    "cnn.add(tf.keras.layers.Dense(units=128, activation='relu'))"
   ]
  },
  {
   "cell_type": "code",
   "execution_count": 10,
   "id": "971b29f1-1a70-401b-b9aa-14039bc07593",
   "metadata": {},
   "outputs": [],
   "source": [
    "cnn.add(tf.keras.layers.Dense(units=1, activation='sigmoid'))"
   ]
  },
  {
   "cell_type": "code",
   "execution_count": 11,
   "id": "d4e447da-601e-45b7-b82e-07f5141434d8",
   "metadata": {},
   "outputs": [
    {
     "name": "stdout",
     "output_type": "stream",
     "text": [
      "WARNING:tensorflow:From C:\\Users\\ishaa_04bpft8\\AppData\\Local\\Programs\\Python\\Python311\\Lib\\site-packages\\keras\\src\\optimizers\\__init__.py:309: The name tf.train.Optimizer is deprecated. Please use tf.compat.v1.train.Optimizer instead.\n",
      "\n"
     ]
    }
   ],
   "source": [
    "cnn.compile(optimizer = 'adam', loss = 'binary_crossentropy', metrics = ['accuracy'])"
   ]
  },
  {
   "cell_type": "code",
   "execution_count": 12,
   "id": "90e51bf0-a667-4598-be0b-0e3577d3851b",
   "metadata": {},
   "outputs": [
    {
     "name": "stdout",
     "output_type": "stream",
     "text": [
      "Epoch 1/25\n",
      "WARNING:tensorflow:From C:\\Users\\ishaa_04bpft8\\AppData\\Local\\Programs\\Python\\Python311\\Lib\\site-packages\\keras\\src\\utils\\tf_utils.py:492: The name tf.ragged.RaggedTensorValue is deprecated. Please use tf.compat.v1.ragged.RaggedTensorValue instead.\n",
      "\n",
      "WARNING:tensorflow:From C:\\Users\\ishaa_04bpft8\\AppData\\Local\\Programs\\Python\\Python311\\Lib\\site-packages\\keras\\src\\engine\\base_layer_utils.py:384: The name tf.executing_eagerly_outside_functions is deprecated. Please use tf.compat.v1.executing_eagerly_outside_functions instead.\n",
      "\n",
      "80/80 [==============================] - 14s 167ms/step - loss: 0.6710 - accuracy: 0.5861 - val_loss: 0.6053 - val_accuracy: 0.6760\n",
      "Epoch 2/25\n",
      "80/80 [==============================] - 13s 157ms/step - loss: 0.6056 - accuracy: 0.6721 - val_loss: 0.6026 - val_accuracy: 0.6685\n",
      "Epoch 3/25\n",
      "80/80 [==============================] - 14s 173ms/step - loss: 0.5670 - accuracy: 0.7116 - val_loss: 0.5595 - val_accuracy: 0.7160\n",
      "Epoch 4/25\n",
      "80/80 [==============================] - 14s 174ms/step - loss: 0.5381 - accuracy: 0.7268 - val_loss: 0.5172 - val_accuracy: 0.7410\n",
      "Epoch 5/25\n",
      "80/80 [==============================] - 14s 171ms/step - loss: 0.5305 - accuracy: 0.7388 - val_loss: 0.5044 - val_accuracy: 0.7520\n",
      "Epoch 6/25\n",
      "80/80 [==============================] - 13s 168ms/step - loss: 0.5042 - accuracy: 0.7508 - val_loss: 0.4950 - val_accuracy: 0.7665\n",
      "Epoch 7/25\n",
      "80/80 [==============================] - 13s 166ms/step - loss: 0.4805 - accuracy: 0.7723 - val_loss: 0.5253 - val_accuracy: 0.7525\n",
      "Epoch 8/25\n",
      "80/80 [==============================] - 14s 177ms/step - loss: 0.4869 - accuracy: 0.7642 - val_loss: 0.4968 - val_accuracy: 0.7715\n",
      "Epoch 9/25\n",
      "80/80 [==============================] - 13s 166ms/step - loss: 0.4598 - accuracy: 0.7853 - val_loss: 0.4601 - val_accuracy: 0.7850\n",
      "Epoch 10/25\n",
      "80/80 [==============================] - 13s 163ms/step - loss: 0.4528 - accuracy: 0.7896 - val_loss: 0.4691 - val_accuracy: 0.7800\n",
      "Epoch 11/25\n",
      "80/80 [==============================] - 13s 164ms/step - loss: 0.4465 - accuracy: 0.7931 - val_loss: 0.4817 - val_accuracy: 0.7750\n",
      "Epoch 12/25\n",
      "80/80 [==============================] - 13s 166ms/step - loss: 0.4342 - accuracy: 0.7986 - val_loss: 0.4735 - val_accuracy: 0.7865\n",
      "Epoch 13/25\n",
      "80/80 [==============================] - 13s 165ms/step - loss: 0.4217 - accuracy: 0.8052 - val_loss: 0.4409 - val_accuracy: 0.8065\n",
      "Epoch 14/25\n",
      "80/80 [==============================] - 13s 165ms/step - loss: 0.4064 - accuracy: 0.8140 - val_loss: 0.4524 - val_accuracy: 0.7885\n",
      "Epoch 15/25\n",
      "80/80 [==============================] - 13s 163ms/step - loss: 0.4118 - accuracy: 0.8109 - val_loss: 0.5233 - val_accuracy: 0.7535\n",
      "Epoch 16/25\n",
      "80/80 [==============================] - 13s 162ms/step - loss: 0.4022 - accuracy: 0.8159 - val_loss: 0.4748 - val_accuracy: 0.7880\n",
      "Epoch 17/25\n",
      "80/80 [==============================] - 13s 163ms/step - loss: 0.3881 - accuracy: 0.8194 - val_loss: 0.4325 - val_accuracy: 0.8030\n",
      "Epoch 18/25\n",
      "80/80 [==============================] - 13s 162ms/step - loss: 0.3830 - accuracy: 0.8251 - val_loss: 0.4265 - val_accuracy: 0.8125\n",
      "Epoch 19/25\n",
      "80/80 [==============================] - 13s 162ms/step - loss: 0.3669 - accuracy: 0.8351 - val_loss: 0.4582 - val_accuracy: 0.8045\n",
      "Epoch 20/25\n",
      "80/80 [==============================] - 13s 167ms/step - loss: 0.3800 - accuracy: 0.8322 - val_loss: 0.4391 - val_accuracy: 0.8010\n",
      "Epoch 21/25\n",
      "80/80 [==============================] - 13s 163ms/step - loss: 0.3638 - accuracy: 0.8360 - val_loss: 0.4766 - val_accuracy: 0.7810\n",
      "Epoch 22/25\n",
      "80/80 [==============================] - 13s 163ms/step - loss: 0.3524 - accuracy: 0.8424 - val_loss: 0.4508 - val_accuracy: 0.8045\n",
      "Epoch 23/25\n",
      "80/80 [==============================] - 13s 164ms/step - loss: 0.3412 - accuracy: 0.8479 - val_loss: 0.4461 - val_accuracy: 0.8065\n",
      "Epoch 24/25\n",
      "80/80 [==============================] - 13s 163ms/step - loss: 0.3498 - accuracy: 0.8465 - val_loss: 0.4483 - val_accuracy: 0.8125\n",
      "Epoch 25/25\n",
      "80/80 [==============================] - 13s 161ms/step - loss: 0.3290 - accuracy: 0.8549 - val_loss: 0.4448 - val_accuracy: 0.8110\n"
     ]
    },
    {
     "data": {
      "text/plain": [
       "<keras.src.callbacks.History at 0x18c61db8e90>"
      ]
     },
     "execution_count": 12,
     "metadata": {},
     "output_type": "execute_result"
    }
   ],
   "source": [
    "cnn.fit(x = training_set, validation_data = test_set, epochs = 25)"
   ]
  },
  {
   "cell_type": "code",
   "execution_count": 40,
   "id": "3c14201e-70a1-4740-8783-cbb97a300db6",
   "metadata": {},
   "outputs": [
    {
     "name": "stdout",
     "output_type": "stream",
     "text": [
      "1/1 [==============================] - 0s 22ms/step\n",
      "{'cats': 0, 'dogs': 1}\n"
     ]
    }
   ],
   "source": [
    "import numpy as np\n",
    "from keras.preprocessing import image\n",
    "test_image = image.load_img('dataset/single_prediction/test4.jpg', target_size = (64, 64))\n",
    "test_image = image.img_to_array(test_image)\n",
    "test_image = np.expand_dims(test_image, axis = 0)\n",
    "result = cnn.predict(test_image)\n",
    "print(training_set.class_indices)\n",
    "if result[0][0] == 0:\n",
    "    prediction = 'Cat'\n",
    "else:\n",
    "    prediction = 'Dog'\n"
   ]
  },
  {
   "cell_type": "code",
   "execution_count": 41,
   "id": "5887ac57-f5c1-4330-8333-38cfd9159e77",
   "metadata": {},
   "outputs": [
    {
     "name": "stdout",
     "output_type": "stream",
     "text": [
      "Dog\n"
     ]
    }
   ],
   "source": [
    "print(prediction)"
   ]
  },
  {
   "cell_type": "code",
   "execution_count": null,
   "id": "302697f5-97aa-40ab-ac69-392aaeff2a6e",
   "metadata": {},
   "outputs": [],
   "source": []
  }
 ],
 "metadata": {
  "kernelspec": {
   "display_name": "Python 3 (ipykernel)",
   "language": "python",
   "name": "python3"
  },
  "language_info": {
   "codemirror_mode": {
    "name": "ipython",
    "version": 3
   },
   "file_extension": ".py",
   "mimetype": "text/x-python",
   "name": "python",
   "nbconvert_exporter": "python",
   "pygments_lexer": "ipython3",
   "version": "3.11.4"
  }
 },
 "nbformat": 4,
 "nbformat_minor": 5
}
