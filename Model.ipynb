{
 "cells": [
  {
   "cell_type": "code",
   "execution_count": 1,
   "id": "d11ab5d7-d732-4ee1-9132-11b8a5727735",
   "metadata": {},
   "outputs": [
    {
     "name": "stdout",
     "output_type": "stream",
     "text": [
      "WARNING:tensorflow:From C:\\Users\\ishaa_04bpft8\\AppData\\Local\\Programs\\Python\\Python311\\Lib\\site-packages\\keras\\src\\losses.py:2976: The name tf.losses.sparse_softmax_cross_entropy is deprecated. Please use tf.compat.v1.losses.sparse_softmax_cross_entropy instead.\n",
      "\n"
     ]
    }
   ],
   "source": [
    "import tensorflow as tf\n",
    "from keras.preprocessing.image import ImageDataGenerator"
   ]
  },
  {
   "cell_type": "code",
   "execution_count": 2,
   "id": "afe94946-5c90-4182-a1bc-3aa7ab71cf8e",
   "metadata": {},
   "outputs": [
    {
     "name": "stdout",
     "output_type": "stream",
     "text": [
      "Found 7999 images belonging to 2 classes.\n"
     ]
    }
   ],
   "source": [
    "train_datagen = ImageDataGenerator(rescale = 1./255,\n",
    "                                   shear_range = 0.2,\n",
    "                                   zoom_range = 0.2,\n",
    "                                   horizontal_flip = True)\n",
    "training_set = train_datagen.flow_from_directory('dataset/training_set',\n",
    "                                                 target_size = (64, 64),\n",
    "                                                 batch_size = 100,\n",
    "                                                 class_mode = 'binary')"
   ]
  },
  {
   "cell_type": "code",
   "execution_count": 3,
   "id": "9f617f87-6278-4aa1-9a12-f2bcfa2ae294",
   "metadata": {},
   "outputs": [
    {
     "name": "stdout",
     "output_type": "stream",
     "text": [
      "Found 2000 images belonging to 2 classes.\n"
     ]
    }
   ],
   "source": [
    "test_datagen = ImageDataGenerator(rescale = 1./255)\n",
    "test_set = test_datagen.flow_from_directory('dataset/test_set',\n",
    "                                            target_size = (64, 64),\n",
    "                                            batch_size = 100,\n",
    "                                            class_mode = 'binary')"
   ]
  },
  {
   "cell_type": "code",
   "execution_count": 4,
   "id": "e3963116-326f-47f7-a56e-f6ebd29aaa01",
   "metadata": {},
   "outputs": [
    {
     "name": "stdout",
     "output_type": "stream",
     "text": [
      "WARNING:tensorflow:From C:\\Users\\ishaa_04bpft8\\AppData\\Local\\Programs\\Python\\Python311\\Lib\\site-packages\\keras\\src\\backend.py:873: The name tf.get_default_graph is deprecated. Please use tf.compat.v1.get_default_graph instead.\n",
      "\n"
     ]
    }
   ],
   "source": [
    "cnn = tf.keras.models.Sequential()"
   ]
  },
  {
   "cell_type": "code",
   "execution_count": 5,
   "id": "9125bed2-d156-4ffc-8c80-e6910c1b1dad",
   "metadata": {},
   "outputs": [],
   "source": [
    "cnn.add(tf.keras.layers.Conv2D(filters=32, kernel_size=3, activation='relu', input_shape=[64, 64, 3]))"
   ]
  },
  {
   "cell_type": "code",
   "execution_count": 6,
   "id": "3cfe63f6-ffc4-4c57-9871-c8443357b6fd",
   "metadata": {},
   "outputs": [
    {
     "name": "stdout",
     "output_type": "stream",
     "text": [
      "WARNING:tensorflow:From C:\\Users\\ishaa_04bpft8\\AppData\\Local\\Programs\\Python\\Python311\\Lib\\site-packages\\keras\\src\\layers\\pooling\\max_pooling2d.py:161: The name tf.nn.max_pool is deprecated. Please use tf.nn.max_pool2d instead.\n",
      "\n"
     ]
    }
   ],
   "source": [
    "cnn.add(tf.keras.layers.MaxPool2D(pool_size=2, strides=2))"
   ]
  },
  {
   "cell_type": "code",
   "execution_count": 7,
   "id": "cb9eb07d-f582-45a6-be0c-6022d43e7ec2",
   "metadata": {},
   "outputs": [],
   "source": [
    "cnn.add(tf.keras.layers.Conv2D(filters=32, kernel_size=3, activation='relu'))\n",
    "cnn.add(tf.keras.layers.MaxPool2D(pool_size=2, strides=2))"
   ]
  },
  {
   "cell_type": "code",
   "execution_count": 8,
   "id": "66dbbb9e-5c48-4f4e-b124-9f3888d0a278",
   "metadata": {},
   "outputs": [],
   "source": [
    "cnn.add(tf.keras.layers.Flatten())"
   ]
  },
  {
   "cell_type": "code",
   "execution_count": 9,
   "id": "a737e4a4-c3dd-4c7a-b243-c3615fcdeaf6",
   "metadata": {},
   "outputs": [],
   "source": [
    "cnn.add(tf.keras.layers.Dense(units=128, activation='relu'))"
   ]
  },
  {
   "cell_type": "code",
   "execution_count": 10,
   "id": "971b29f1-1a70-401b-b9aa-14039bc07593",
   "metadata": {},
   "outputs": [],
   "source": [
    "cnn.add(tf.keras.layers.Dense(units=1, activation='sigmoid'))"
   ]
  },
  {
   "cell_type": "code",
   "execution_count": 11,
   "id": "d4e447da-601e-45b7-b82e-07f5141434d8",
   "metadata": {},
   "outputs": [
    {
     "name": "stdout",
     "output_type": "stream",
     "text": [
      "WARNING:tensorflow:From C:\\Users\\ishaa_04bpft8\\AppData\\Local\\Programs\\Python\\Python311\\Lib\\site-packages\\keras\\src\\optimizers\\__init__.py:309: The name tf.train.Optimizer is deprecated. Please use tf.compat.v1.train.Optimizer instead.\n",
      "\n"
     ]
    }
   ],
   "source": [
    "cnn.compile(optimizer = 'adam', loss = 'binary_crossentropy', metrics = ['accuracy'])"
   ]
  },
  {
   "cell_type": "code",
   "execution_count": 12,
   "id": "90e51bf0-a667-4598-be0b-0e3577d3851b",
   "metadata": {},
   "outputs": [
    {
     "name": "stdout",
     "output_type": "stream",
     "text": [
      "Epoch 1/25\n",
      "WARNING:tensorflow:From C:\\Users\\ishaa_04bpft8\\AppData\\Local\\Programs\\Python\\Python311\\Lib\\site-packages\\keras\\src\\utils\\tf_utils.py:492: The name tf.ragged.RaggedTensorValue is deprecated. Please use tf.compat.v1.ragged.RaggedTensorValue instead.\n",
      "\n",
      "WARNING:tensorflow:From C:\\Users\\ishaa_04bpft8\\AppData\\Local\\Programs\\Python\\Python311\\Lib\\site-packages\\keras\\src\\engine\\base_layer_utils.py:384: The name tf.executing_eagerly_outside_functions is deprecated. Please use tf.compat.v1.executing_eagerly_outside_functions instead.\n",
      "\n",
      "80/80 [==============================] - 47s 553ms/step - loss: 0.7138 - accuracy: 0.5208 - val_loss: 0.6830 - val_accuracy: 0.5520\n",
      "Epoch 2/25\n",
      "80/80 [==============================] - 40s 497ms/step - loss: 0.6655 - accuracy: 0.5952 - val_loss: 0.6317 - val_accuracy: 0.6345\n",
      "Epoch 3/25\n",
      "80/80 [==============================] - 40s 506ms/step - loss: 0.6265 - accuracy: 0.6512 - val_loss: 0.6048 - val_accuracy: 0.6675\n",
      "Epoch 4/25\n",
      "80/80 [==============================] - 37s 464ms/step - loss: 0.5932 - accuracy: 0.6811 - val_loss: 0.5563 - val_accuracy: 0.7195\n",
      "Epoch 5/25\n",
      "80/80 [==============================] - 38s 480ms/step - loss: 0.5576 - accuracy: 0.7138 - val_loss: 0.5942 - val_accuracy: 0.6895\n",
      "Epoch 6/25\n",
      "80/80 [==============================] - 37s 467ms/step - loss: 0.5532 - accuracy: 0.7145 - val_loss: 0.5385 - val_accuracy: 0.7330\n",
      "Epoch 7/25\n",
      "80/80 [==============================] - 39s 486ms/step - loss: 0.5357 - accuracy: 0.7267 - val_loss: 0.5080 - val_accuracy: 0.7650\n",
      "Epoch 8/25\n",
      "80/80 [==============================] - 38s 477ms/step - loss: 0.5145 - accuracy: 0.7441 - val_loss: 0.4976 - val_accuracy: 0.7670\n",
      "Epoch 9/25\n",
      "80/80 [==============================] - 39s 488ms/step - loss: 0.4926 - accuracy: 0.7561 - val_loss: 0.4923 - val_accuracy: 0.7635\n",
      "Epoch 10/25\n",
      "80/80 [==============================] - 38s 480ms/step - loss: 0.4837 - accuracy: 0.7667 - val_loss: 0.4904 - val_accuracy: 0.7730\n",
      "Epoch 11/25\n",
      "80/80 [==============================] - 38s 471ms/step - loss: 0.4738 - accuracy: 0.7712 - val_loss: 0.5336 - val_accuracy: 0.7405\n",
      "Epoch 12/25\n",
      "80/80 [==============================] - 38s 477ms/step - loss: 0.4615 - accuracy: 0.7807 - val_loss: 0.4777 - val_accuracy: 0.7780\n",
      "Epoch 13/25\n",
      "80/80 [==============================] - 37s 464ms/step - loss: 0.4543 - accuracy: 0.7820 - val_loss: 0.4698 - val_accuracy: 0.7860\n",
      "Epoch 14/25\n",
      "80/80 [==============================] - 37s 456ms/step - loss: 0.4390 - accuracy: 0.7957 - val_loss: 0.4984 - val_accuracy: 0.7715\n",
      "Epoch 15/25\n",
      "80/80 [==============================] - 36s 446ms/step - loss: 0.4375 - accuracy: 0.7941 - val_loss: 0.4666 - val_accuracy: 0.7920\n",
      "Epoch 16/25\n",
      "80/80 [==============================] - 36s 451ms/step - loss: 0.4266 - accuracy: 0.7996 - val_loss: 0.4831 - val_accuracy: 0.7855\n",
      "Epoch 17/25\n",
      "80/80 [==============================] - 36s 456ms/step - loss: 0.4188 - accuracy: 0.8079 - val_loss: 0.4763 - val_accuracy: 0.7835\n",
      "Epoch 18/25\n",
      "80/80 [==============================] - 39s 487ms/step - loss: 0.4164 - accuracy: 0.8087 - val_loss: 0.4897 - val_accuracy: 0.7835\n",
      "Epoch 19/25\n",
      "80/80 [==============================] - 38s 477ms/step - loss: 0.4069 - accuracy: 0.8181 - val_loss: 0.5065 - val_accuracy: 0.7750\n",
      "Epoch 20/25\n",
      "80/80 [==============================] - 36s 455ms/step - loss: 0.3902 - accuracy: 0.8267 - val_loss: 0.5091 - val_accuracy: 0.7840\n",
      "Epoch 21/25\n",
      "80/80 [==============================] - 36s 454ms/step - loss: 0.3909 - accuracy: 0.8214 - val_loss: 0.4604 - val_accuracy: 0.8025\n",
      "Epoch 22/25\n",
      "80/80 [==============================] - 37s 457ms/step - loss: 0.3819 - accuracy: 0.8272 - val_loss: 0.4829 - val_accuracy: 0.7950\n",
      "Epoch 23/25\n",
      "80/80 [==============================] - 37s 458ms/step - loss: 0.3728 - accuracy: 0.8309 - val_loss: 0.4583 - val_accuracy: 0.7980\n",
      "Epoch 24/25\n",
      "80/80 [==============================] - 36s 449ms/step - loss: 0.3635 - accuracy: 0.8351 - val_loss: 0.4490 - val_accuracy: 0.8050\n",
      "Epoch 25/25\n",
      "80/80 [==============================] - 35s 442ms/step - loss: 0.3679 - accuracy: 0.8366 - val_loss: 0.4797 - val_accuracy: 0.7960\n"
     ]
    },
    {
     "data": {
      "text/plain": [
       "<keras.src.callbacks.History at 0x23978f965d0>"
      ]
     },
     "execution_count": 12,
     "metadata": {},
     "output_type": "execute_result"
    }
   ],
   "source": [
    "cnn.fit(x = training_set, validation_data = test_set, epochs = 25)"
   ]
  },
  {
   "cell_type": "code",
   "execution_count": null,
   "id": "3c14201e-70a1-4740-8783-cbb97a300db6",
   "metadata": {},
   "outputs": [],
   "source": [
    "import cv2\n",
    "import numpy as np\n",
    "from keras.preprocessing import image\n",
    "\n",
    "cap = cv2.VideoCapture(0)\n",
    "cap.set(3, 640)  # set Width\n",
    "cap.set(4, 480)  # set Height\n",
    "\n",
    "while True:\n",
    "    ret, frame = cap.read()\n",
    "    if not ret:\n",
    "        break\n",
    "    \n",
    "    # Process the frame for prediction\n",
    "    img = cv2.resize(frame, (64, 64))  # Resize image to match the model input size\n",
    "    img = np.expand_dims(img, axis=0)  # Add batch dimension\n",
    "    img = img / 255.0  # Normalize pixel values\n",
    "    \n",
    "    # Make prediction\n",
    "    result = cnn.predict(img)\n",
    "    if result[0][0] < 0.5:\n",
    "        prediction = 'Cat'\n",
    "    else:\n",
    "        prediction = 'Dog'\n",
    "    \n",
    "    # Display prediction\n",
    "    cv2.putText(frame, \"Predicted class: \" + prediction, (20, 20), cv2.FONT_HERSHEY_COMPLEX, 1, (100, 200, 56), 2)\n",
    "    cv2.imshow(\"Video Output\", frame)\n",
    "\n",
    "    if cv2.waitKey(1) & 0xFF == ord('q'):\n",
    "        break\n",
    "\n",
    "cap.release()\n",
    "cv2.destroyAllWindows()\n"
   ]
  },
  {
   "cell_type": "code",
   "execution_count": null,
   "id": "5887ac57-f5c1-4330-8333-38cfd9159e77",
   "metadata": {},
   "outputs": [],
   "source": [
    "print(prediction)"
   ]
  },
  {
   "cell_type": "code",
   "execution_count": null,
   "id": "302697f5-97aa-40ab-ac69-392aaeff2a6e",
   "metadata": {},
   "outputs": [],
   "source": []
  }
 ],
 "metadata": {
  "kernelspec": {
   "display_name": "Python 3 (ipykernel)",
   "language": "python",
   "name": "python3"
  },
  "language_info": {
   "codemirror_mode": {
    "name": "ipython",
    "version": 3
   },
   "file_extension": ".py",
   "mimetype": "text/x-python",
   "name": "python",
   "nbconvert_exporter": "python",
   "pygments_lexer": "ipython3",
   "version": "3.11.4"
  }
 },
 "nbformat": 4,
 "nbformat_minor": 5
}
